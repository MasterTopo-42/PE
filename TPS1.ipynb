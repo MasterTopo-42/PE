{
 "cells": [
  {
   "cell_type": "markdown",
   "id": "0e01dbf4-95fd-4f0a-af95-114856824f1e",
   "metadata": {
    "jp-MarkdownHeadingCollapsed": true
   },
   "source": [
    " # Trabajo Práctico de Simulación N°1"
   ]
  },
  {
   "cell_type": "markdown",
   "id": "9e879d00-5237-4e38-b99c-d2ca34331228",
   "metadata": {},
   "source": [
    "## 1. Estacionariedad y ergodicidad"
   ]
  },
  {
   "cell_type": "markdown",
   "id": "bda3391d-de66-48d7-9f53-1d6629d322b2",
   "metadata": {},
   "source": [
    "### A. Visualización"
   ]
  },
  {
   "cell_type": "code",
   "execution_count": 1,
   "id": "736ea7f2-313d-445e-9875-116e1dd49c90",
   "metadata": {},
   "outputs": [],
   "source": [
    "#Importar librerias\n",
    "import matplotlib.pyplot as plt\n",
    "import numpy as np\n",
    "import statistics as st\n",
    "from scipy import stats\n",
    "from scipy.signal import correlate\n",
    "#Librerias interactivas\n",
    "from ipywidgets import interact,fixed\n",
    "import ipywidgets as widgets"
   ]
  },
  {
   "cell_type": "code",
   "execution_count": 2,
   "id": "5268635c-e02a-414f-b8c5-9fca81008702",
   "metadata": {},
   "outputs": [],
   "source": [
    "#Importar datos a partir de un archivo .csv exportado desde Scilab \n",
    "rp1dat = np.genfromtxt('rp1', delimiter=',');\n",
    "rp2dat = np.genfromtxt('rp2', delimiter=',');\n",
    "rp3dat = np.genfromtxt('rp3', delimiter=',');\n",
    "data = [rp1dat,rp2dat,rp3dat];"
   ]
  },
  {
   "cell_type": "code",
   "execution_count": 3,
   "id": "a3bc4c5f-f213-41de-b9fb-0ac860f8b7c0",
   "metadata": {},
   "outputs": [],
   "source": [
    "# M realiziciones, N tiempos / Valores maximos M=N=1000\n",
    "#RP_j [1,2,3]\n",
    "def rp(j,M,N):\n",
    "    t = np.arange(1,N+1);\n",
    "    for i in range(M):\n",
    "        plt.plot(t,data[j-1][i,:N],'-');\n",
    "    plt.title(\"RP\"+str(j))\n",
    "    plt.xlabel(\"N\")\n",
    "    plt.ylabel(\"Amplitud de señal\")\n",
    "    plt.show()"
   ]
  },
  {
   "cell_type": "code",
   "execution_count": 4,
   "id": "5019530d-7705-4fb8-b6d9-229c27d31071",
   "metadata": {},
   "outputs": [
    {
     "data": {
      "application/vnd.jupyter.widget-view+json": {
       "model_id": "7e1c1706d5f043259629a3d37710ace2",
       "version_major": 2,
       "version_minor": 0
      },
      "text/plain": [
       "interactive(children=(Dropdown(description='j', options=(('RP1', 1), ('RP2', 2), ('RP3', 3)), value=1), IntSli…"
      ]
     },
     "metadata": {},
     "output_type": "display_data"
    }
   ],
   "source": [
    "#Visualizar\n",
    "interact(rp,\n",
    "        j=[('RP1',1),('RP2',2),('RP3',3)],\n",
    "        M = widgets.IntSlider(value=5, min=1, max=13),\n",
    "        N = widgets.IntSlider(value=100, min=1, max=1000));"
   ]
  },
  {
   "cell_type": "markdown",
   "id": "49cef3b7-5848-4fdb-84f2-0c999b462b2d",
   "metadata": {},
   "source": [
    "### B. A priori"
   ]
  },
  {
   "cell_type": "markdown",
   "id": "efa4ca16-0fa0-4ef0-bb59-7bdca9264d48",
   "metadata": {},
   "source": [
    "**Estacionariedad en sentido amplio (WSS)**\n",
    "* $E[X(t)]=m_X$ (independiente del tiempo)\n",
    "* $R_X(t_1,t_2)=R_X(\\tau)$ con $\\tau=t_2-t_1$"
   ]
  },
  {
   "cell_type": "markdown",
   "id": "d8cf63b5-5ebe-4119-b033-c11e8690ecc9",
   "metadata": {},
   "source": [
    "**Teorema de Ergocidad para la media**\n",
    "\n",
    "El proceso $X(t)$ con media $m_X(t)=m$ es ergódico en media si:\n",
    "    $$\\lim_{T \\to \\infty} \\left< X(t)\\right>_T = m$$\n",
    "\n",
    "**Teorema de Ergodicidad para la Autocorrelación**\n",
    "\n",
    "El proceso $X(t)$ con autocorrelación $R_X(\\tau)$ es ergódico si:\n",
    "     $$\\lim_{T \\to \\infty} \\left< X(t)X(t+\\tau)\\right>_T = R_X(\\tau)$$"
   ]
  },
  {
   "cell_type": "markdown",
   "id": "d374ec7b-e6a6-467b-a25d-3f10268c3f15",
   "metadata": {},
   "source": [
    "### C. A Posteriori"
   ]
  },
  {
   "cell_type": "code",
   "execution_count": 5,
   "id": "83a74147-75e9-4155-b604-5616610d4c4a",
   "metadata": {},
   "outputs": [],
   "source": [
    "#Obtener medias y variancias:\n",
    "# M realizaciones hasta tiempo T del los datos j\n",
    "def var_aleatorias(data,j,M,T):\n",
    "    Mx = []\n",
    "    Vx = []\n",
    "    for i in range(T):\n",
    "        Mx.append(st.mean(data[j-1][:M,i])); \n",
    "        Vx.append(st.variance(data[j-1][:M,i]));\n",
    "    return Mx,Vx\n",
    "#Plotear dichos resultados\n",
    "def vaplot(data,j,M,T):\n",
    "    Mx,Vx = var_aleatorias(data,j,M,T)\n",
    "    plt.title(\"RP\"+str(j))\n",
    "    plt.xlabel(\"N\")\n",
    "    plt.ylabel(\"Amplitud de señal\")\n",
    "    plt.plot(np.arange(T),Mx, \"or\", label=\"Media con \"+str(M)+\" realizaciones\")\n",
    "    plt.plot(np.arange(T),Vx, \"hb\", label=\"Variancia con \"+str(M)+\" realizaciones\")\n",
    "    plt.legend(loc=\"upper left\")\n",
    "    plt.show()"
   ]
  },
  {
   "cell_type": "code",
   "execution_count": 6,
   "id": "3efc98c6-c0ce-4ac2-9330-aec4280fc30f",
   "metadata": {},
   "outputs": [
    {
     "data": {
      "application/vnd.jupyter.widget-view+json": {
       "model_id": "77de218bfec741cf842f67ea413c84ce",
       "version_major": 2,
       "version_minor": 0
      },
      "text/plain": [
       "interactive(children=(Dropdown(description='j', options=(('RP1', 1), ('RP2', 2), ('RP3', 3)), value=1), IntSli…"
      ]
     },
     "metadata": {},
     "output_type": "display_data"
    }
   ],
   "source": [
    "interact(vaplot,\n",
    "        data = fixed(data),\n",
    "        j=[('RP1',1),('RP2',2),('RP3',3)],\n",
    "        M = widgets.IntSlider(value=5, min=1, max=1000),\n",
    "        T = widgets.IntSlider(value=100, min=1, max=1000));"
   ]
  },
  {
   "cell_type": "code",
   "execution_count": 7,
   "id": "8a65156c-5913-4203-b5a6-008e28b9e1e3",
   "metadata": {},
   "outputs": [],
   "source": [
    "#Autocovariancia por definicion\n",
    "def autocov(data,j,t1,t2):\n",
    "    X1 = data[j-1][:,t1]; #VA muestras en t1\n",
    "    X2 = data[j-1][:,t2]; #VA muestras en t2\n",
    "    n = len(X1);\n",
    "    m1=st.mean(X1); #Media en t1\n",
    "    m2=st.mean(X2); #Media en t2\n",
    "    z = st.mean((X1-m1)*(X2-m2)); #Autocovariancia\n",
    "    return z"
   ]
  },
  {
   "cell_type": "code",
   "execution_count": 8,
   "id": "7a2d3f5b-5244-40ec-b3e2-fbf584ec4906",
   "metadata": {},
   "outputs": [],
   "source": [
    "def ACplot(data,j,N):\n",
    "    xv = np.arange(N)\n",
    "    yv = np.arange(N)\n",
    "    zv = np.zeros((len(xv), len(yv)))\n",
    "    for i, x in enumerate(xv):\n",
    "      for k, y in enumerate(yv):\n",
    "        zv[i,k] = autocov(data,j,x,y)\n",
    "    plt.pcolormesh(xv,yv,zv,shading='auto')\n",
    "    plt.colorbar()\n",
    "    plt.xlabel('t1')\n",
    "    plt.ylabel('t2')\n",
    "    plt.title('Autocovariancia')\n",
    "    plt.show()"
   ]
  },
  {
   "cell_type": "code",
   "execution_count": 9,
   "id": "9bc47050-7917-4756-9c17-77f9368ef51e",
   "metadata": {},
   "outputs": [
    {
     "data": {
      "application/vnd.jupyter.widget-view+json": {
       "model_id": "a416002558af45c99329425ec7774a6b",
       "version_major": 2,
       "version_minor": 0
      },
      "text/plain": [
       "interactive(children=(Dropdown(description='j', options=(('RP1', 1), ('RP2', 2), ('RP3', 3)), value=1), IntSli…"
      ]
     },
     "metadata": {},
     "output_type": "display_data"
    }
   ],
   "source": [
    "interact(ACplot,\n",
    "        data = fixed(data),\n",
    "        j=[('RP1',1),('RP2',2),('RP3',3)],\n",
    "        N = widgets.IntSlider(value=5, min=1, max=30));"
   ]
  },
  {
   "cell_type": "code",
   "execution_count": 10,
   "id": "b472a83d-607d-41d7-a24e-f47919105229",
   "metadata": {},
   "outputs": [],
   "source": [
    "#Definir la autocorrelación para la realizacion M\n",
    "def xcorr(data,j,M):\n",
    "    s = data[j-1][M,:]; #señal\n",
    "    rx = correlate(s,s,method='fft');\n",
    "    return rx\n",
    "#Plotear\n",
    "def xcplt(data,j,M):\n",
    "    rx = xcorr(data,j,M)\n",
    "    plt.title(\"RP\"+str(j)+\" Autocorrelacion\")\n",
    "    plt.xlabel(\"K\")\n",
    "    plt.ylabel(\"Amplitud\")\n",
    "    plt.plot(np.arange(1999),rx, \".b\", label=\"Realizacion \"+str(M))\n",
    "    plt.legend(loc=\"upper left\")\n",
    "    plt.show()"
   ]
  },
  {
   "cell_type": "code",
   "execution_count": 11,
   "id": "0e244bbd-26ff-4435-bd1f-da0a3f723fb9",
   "metadata": {},
   "outputs": [
    {
     "data": {
      "application/vnd.jupyter.widget-view+json": {
       "model_id": "5796eaf8870e4472888c1582e9ce8212",
       "version_major": 2,
       "version_minor": 0
      },
      "text/plain": [
       "interactive(children=(Dropdown(description='j', options=(('RP1', 1), ('RP2', 2), ('RP3', 3)), value=1), IntSli…"
      ]
     },
     "metadata": {},
     "output_type": "display_data"
    }
   ],
   "source": [
    "interact(xcplt,\n",
    "        data = fixed(data),\n",
    "        j=[('RP1',1),('RP2',2),('RP3',3)],\n",
    "        M = widgets.IntSlider(value=5, min=1, max=1000));"
   ]
  },
  {
   "cell_type": "markdown",
   "id": "80ad0d7e-3b7e-4cb4-b571-17615c67e4bb",
   "metadata": {},
   "source": [
    "### D. Promedios temporales"
   ]
  },
  {
   "cell_type": "code",
   "execution_count": 19,
   "id": "1a1eca45-8b02-4596-a752-7a00b5c5b202",
   "metadata": {},
   "outputs": [],
   "source": [
    "#Calcular promedio temporal para cada realizacion\n",
    "def tmean(data,j,M):\n",
    "    Tm = st.mean(data[j-1][M,:])\n",
    "    return Tm\n",
    "#Plotear\n",
    "def tmplt(data,j):\n",
    "    TM = []\n",
    "    for M in np.arange(1000):\n",
    "        TM.append(tmean(data,j,M))\n",
    "    plt.title(\"RP\"+str(j)+\" Promedio temporal\")\n",
    "    plt.xlabel(\"Realizacion\")\n",
    "    plt.ylabel(\"Promedio temporal\")\n",
    "    plt.plot(np.arange(1000),TM, \".g\")\n",
    "    plt.show()"
   ]
  },
  {
   "cell_type": "code",
   "execution_count": 20,
   "id": "9f28a68b-8666-433c-8a38-8bd8f65077d4",
   "metadata": {},
   "outputs": [
    {
     "data": {
      "application/vnd.jupyter.widget-view+json": {
       "model_id": "e7418fa38d0c4233b702e317add0c418",
       "version_major": 2,
       "version_minor": 0
      },
      "text/plain": [
       "interactive(children=(Dropdown(description='j', options=(('RP1', 1), ('RP2', 2), ('RP3', 3)), value=1), Output…"
      ]
     },
     "metadata": {},
     "output_type": "display_data"
    }
   ],
   "source": [
    "interact(tmplt,\n",
    "        data = fixed(data),\n",
    "        j=[('RP1',1),('RP2',2),('RP3',3)]);"
   ]
  },
  {
   "cell_type": "markdown",
   "id": "21283e61-4a1d-45c2-a47b-cf665acfdc90",
   "metadata": {},
   "source": [
    "## 2. Gaussian White Noise–The building block of parametric modeling"
   ]
  },
  {
   "cell_type": "markdown",
   "id": "a5904631-64e8-4ba6-afb5-60be277ec1bf",
   "metadata": {},
   "source": [
    "## 3. First–Order Autoregressive Processes Generation–An important building block "
   ]
  }
 ],
 "metadata": {
  "kernelspec": {
   "display_name": "Python 3 (ipykernel)",
   "language": "python",
   "name": "python3"
  },
  "language_info": {
   "codemirror_mode": {
    "name": "ipython",
    "version": 3
   },
   "file_extension": ".py",
   "mimetype": "text/x-python",
   "name": "python",
   "nbconvert_exporter": "python",
   "pygments_lexer": "ipython3",
   "version": "3.11.4"
  }
 },
 "nbformat": 4,
 "nbformat_minor": 5
}
